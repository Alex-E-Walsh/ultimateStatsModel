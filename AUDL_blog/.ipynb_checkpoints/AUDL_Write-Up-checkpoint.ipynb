{
 "cells": [
  {
   "cell_type": "markdown",
   "metadata": {},
   "source": [
    "# AUDL Predictive Model Write-Up\n",
    "\n",
    "## Introduction\n",
    "\n",
    "\n",
    ">The American Ultimate Disc League (or AUDL) is the official professional ultimate league in the world. Founded in 2012 with a mission to increase the “visibility of one of North America’s fastest growing sports by creating fun, family friendly events that showcase the sport being played at its highest level.” (https://theaudl.com/league/about) While the rules of the AUDL vary slightly from the more popular and established club ultimate Triple Crown Tour run by USA Ultimate, the basic structure of the game remains. To read more about to rules of the AUDL, feel free to consult this page: https://theaudl.com/league/ultimate101. My primary interest in the AUDL lies in the fact that for every game since the league’s creation, team statistics have been recorded and published. While these team statistics offer ultimate news sites and fans a glimpse into how any team is performing comparatively, little is put forth on predictions on games – as opposed to the NBA, which (albeit has a much firmer footing in the sports entertainment world) has many predictive models and algorithms to predict the outcome of upcoming games. This post serves to walkthrough my process in building one of the first machine learning predictive algorithms in the AUDL. "
   ]
  },
  {
   "cell_type": "markdown",
   "metadata": {},
   "source": [
    "## The Data\n",
    "\n",
    ">After using BeautifulSoup to get the stats tables on the AUDL’s website (https://theaudl.com/league/stats), I combined all game outcomes into one data frame. Calling this data frame all_scores – it holds the home team, away team, each team’s respective score and the location of the game. Then I repeated a similar process for the team stats of each team. For every year since 2012, I parsed each season’s team stats table into its own data frame, then concatenated each of these tables into one large data frame called “full team stats” (or FTS). The team name plus the last two digits of the season year acted as the index for this data frame, thus “New York Empire19” represented the New York Empire for just the 2019 season, as to make teams unique to their respective seasons. I repeated this process for the all_scores data frame as well. Examples of the head of full team stats data frame follow: \n",
    "\n",
    "   <img src=\"statline\">\n",
    "\t\n",
    ">I split this data into two additional data frames for this project. The first was every recorded game with the home and away team’s metrics, I prefaced each metric with either H (for home) or A (for away). I also added the margin between the final score (home team’s points – away team’s points). I labeled this data frame asdf – short for all stats data frame. I made the last dataframe similar to asdf, but only with the per game statistics, excluding running season total metrics such as total points or completions. The reasoning behind this being narrowing down 38 input features down to just 18 to give the per game statistics more weight to produce more accurate results. I refer to this data frame as pgdf (per game data frame). After some minor data cleaning and sorting our data into these respective manners, let’s dive into some exploratory data analysis.  \n",
    "\n",
    "\n"
   ]
  },
  {
   "cell_type": "code",
   "execution_count": null,
   "metadata": {},
   "outputs": [],
   "source": []
  }
 ],
 "metadata": {
  "kernelspec": {
   "display_name": "Python 3",
   "language": "python",
   "name": "python3"
  },
  "language_info": {
   "codemirror_mode": {
    "name": "ipython",
    "version": 3
   },
   "file_extension": ".py",
   "mimetype": "text/x-python",
   "name": "python",
   "nbconvert_exporter": "python",
   "pygments_lexer": "ipython3",
   "version": "3.8.2"
  }
 },
 "nbformat": 4,
 "nbformat_minor": 4
}
