{
 "cells": [
  {
   "cell_type": "markdown",
   "metadata": {},
   "source": [
    "# AUDL Predictive Model Write-Up\n",
    "\n",
    "## Introduction\n",
    "\n",
    "\n",
    ">The American Ultimate Disc League (or AUDL) is the official professional ultimate league in the world. Founded in 2012 with a mission to increase the “visibility of one of North America’s fastest growing sports by creating fun, family friendly events that showcase the sport being played at its highest level.” (https://theaudl.com/league/about) While the rules of the AUDL vary slightly from the more popular and established club ultimate Triple Crown Tour run by USA Ultimate, the basic structure of the game remains. To read more about to rules of the AUDL, feel free to consult this page: https://theaudl.com/league/ultimate101. My primary interest in the AUDL lies in the fact that for every game since the league’s creation, team statistics have been recorded and published. While these team statistics offer ultimate news sites and fans a glimpse into how any team is performing comparatively, little is put forth on predictions on games – as opposed to the NBA, which (albeit has a much firmer footing in the sports entertainment world) has many predictive models and algorithms to predict the outcome of upcoming games. This post serves to walkthrough my process in building one of the first machine learning predictive algorithms in the AUDL. "
   ]
  },
  {
   "cell_type": "markdown",
   "metadata": {},
   "source": [
    "## The Data\n",
    "\n",
    ">After using BeautifulSoup to get the stats tables on the AUDL’s website (https://theaudl.com/league/stats), I combined all game outcomes into one data frame. Calling this data frame all_scores – it holds the home team, away team, each team’s respective score and the location of the game. Then I repeated a similar process for the team stats of each team. For every year since 2012, I parsed each season’s team stats table into its own data frame, then concatenated each of these tables into one large data frame called “full team stats” (or FTS). The team name plus the last two digits of the season year acted as the index for this data frame, thus “New York Empire19” represented the New York Empire for just the 2019 season, as to make teams unique to their respective seasons. I repeated this process for the all_scores data frame as well. Examples of the head of full team stats data frame follow: \n",
    "\n",
    "   <img src=\"statline.png\">\n",
    "\t\n",
    "    \n",
    ">Additionally, here's a table which outlines exactly what each statistic is measuring: \n",
    "\n",
    "   <img src=\"statdef.png\" width=230px; height=300px;>\n",
    "   \n",
    ">I split the data I had scraped into two additional data frames for this project. The first was every recorded game with the home and away team’s metrics, I prefaced each metric with either H (for home) or A (for away). I also added the margin between the final score (home team’s points – away team’s points). I labeled this data frame asdf – short for all stats data frame. I made the last dataframe similar to asdf, but only with the per game statistics, excluding running season total metrics such as total points or completions. The reasoning behind this being narrowing down 38 input features down to just 18 to give the per game statistics more weight to produce more accurate results. I refer to this data frame as pgdf (per game data frame). After some minor data cleaning and sorting our data into these respective manners, let’s dive into some exploratory data analysis.  \n",
    "\n",
    "\n",
    ">For simplicity's sake, I've already saved these files in a seperate csv and will read them in. "
   ]
  },
  {
   "cell_type": "code",
   "execution_count": 5,
   "metadata": {},
   "outputs": [],
   "source": [
    "import pandas as pd\n",
    "import numpy as np\n",
    "import math as m\n",
    "import matplotlib.pyplot as plt\n",
    "import seaborn as sns"
   ]
  },
  {
   "cell_type": "code",
   "execution_count": 6,
   "metadata": {},
   "outputs": [],
   "source": [
    "#read in dataframes\n",
    "pgdf = pd.read_csv('FULL_DATAFRAME')\n",
    "#only stats per game, doesn't include season running total metrics, \n",
    "#indicies are individual games in all AUDL history\n",
    "#margin = hometeam points - away team points\n",
    "\n",
    "asdf = pd.read_csv('all_stats_df')\n",
    "#All games in audl history, includes full metrics and margin \n",
    "\n",
    "fts = pd.read_csv('FULL_TEAM_STATS')\n",
    "#Only season total metrics, index are teams "
   ]
  },
  {
   "cell_type": "code",
   "execution_count": 7,
   "metadata": {},
   "outputs": [],
   "source": [
    "#clean data a hair from csv file\n",
    "pgdf.drop('Unnamed: 0',axis=1,inplace=True)\n",
    "fts.set_index('Team',inplace=True)\n",
    "asdf.drop('Unnamed: 0',axis=1,inplace=True)\n",
    "asdf.rename({'0':'margin'},axis=1,inplace=True)"
   ]
  },
  {
   "attachments": {},
   "cell_type": "markdown",
   "metadata": {},
   "source": [
    "## Exploratory Analysis\n",
    "\n",
    "\n",
    ">I started by running a correlation with the margin column to see which features had the highest effect on the score (or margin column in our case). Below you’ll see the code and results\n"
   ]
  },
  {
   "cell_type": "code",
   "execution_count": 8,
   "metadata": {},
   "outputs": [
    {
     "data": {
      "text/plain": [
       "A_L       0.591798\n",
       "H_PM      0.508185\n",
       "H_W       0.508103\n",
       "A_PAPG    0.500742\n",
       "H_PMPG    0.489076\n",
       "H_PTS     0.468638\n",
       "H_DEFF    0.463084\n",
       "H_PPG     0.460333\n",
       "H_OEFF    0.449924\n",
       "H_BLK     0.363353\n",
       "A_TPG     0.360103\n",
       "H_BPG     0.313952\n",
       "H_G       0.305157\n",
       "A_PA      0.280492\n",
       "H_CMPR    0.248988\n",
       "A_TO      0.199924\n",
       "H_CMP     0.198454\n",
       "H_T       0.044570\n",
       "H_CPG     0.031199\n",
       "A_T       0.013460\n",
       "A_CPG    -0.039400\n",
       "H_TO     -0.134257\n",
       "A_CMP    -0.198824\n",
       "H_PA     -0.216113\n",
       "A_G      -0.292493\n",
       "H_TPG    -0.295343\n",
       "A_CMPR   -0.300092\n",
       "A_BPG    -0.301335\n",
       "A_BLK    -0.353360\n",
       "H_PAPG   -0.437161\n",
       "A_DEFF   -0.493279\n",
       "A_PTS    -0.498203\n",
       "H_L      -0.507196\n",
       "A_PPG    -0.507453\n",
       "A_OEFF   -0.523108\n",
       "A_PMPG   -0.547617\n",
       "A_PM     -0.557555\n",
       "A_W      -0.576193\n",
       "dtype: float64"
      ]
     },
     "execution_count": 8,
     "metadata": {},
     "output_type": "execute_result"
    }
   ],
   "source": [
    "asdf.corrwith(asdf['margin']).sort_values(ascending=False).drop('margin')"
   ]
  },
  {
   "attachments": {},
   "cell_type": "markdown",
   "metadata": {},
   "source": [
    ">As you can see, Away Losses and Away Wins had the highest correlation in predicting the margin, while Plus Minus for both the home team and away team proved to be the next most significant features in predicting the margin. In fact, many features had a notable impact in predicting the margin, I put each feature’s correlation value in a data frame, with each row representing the most impactful features both positively and negatively.\n",
    "\n"
   ]
  },
  {
   "cell_type": "code",
   "execution_count": 56,
   "metadata": {},
   "outputs": [
    {
     "data": {
      "text/html": [
       "<div>\n",
       "<style scoped>\n",
       "    .dataframe tbody tr th:only-of-type {\n",
       "        vertical-align: middle;\n",
       "    }\n",
       "\n",
       "    .dataframe tbody tr th {\n",
       "        vertical-align: top;\n",
       "    }\n",
       "\n",
       "    .dataframe thead th {\n",
       "        text-align: right;\n",
       "    }\n",
       "</style>\n",
       "<table border=\"1\" class=\"dataframe\">\n",
       "  <thead>\n",
       "    <tr style=\"text-align: right;\">\n",
       "      <th></th>\n",
       "      <th>Metric</th>\n",
       "      <th>Corr Value</th>\n",
       "      <th>Metric</th>\n",
       "      <th>Corr Value</th>\n",
       "    </tr>\n",
       "  </thead>\n",
       "  <tbody>\n",
       "    <tr>\n",
       "      <th>0</th>\n",
       "      <td>A_L</td>\n",
       "      <td>0.591798</td>\n",
       "      <td>A_W</td>\n",
       "      <td>-0.576193</td>\n",
       "    </tr>\n",
       "    <tr>\n",
       "      <th>1</th>\n",
       "      <td>H_PM</td>\n",
       "      <td>0.508185</td>\n",
       "      <td>A_PM</td>\n",
       "      <td>-0.557555</td>\n",
       "    </tr>\n",
       "    <tr>\n",
       "      <th>2</th>\n",
       "      <td>H_W</td>\n",
       "      <td>0.508103</td>\n",
       "      <td>A_PMPG</td>\n",
       "      <td>-0.547617</td>\n",
       "    </tr>\n",
       "    <tr>\n",
       "      <th>3</th>\n",
       "      <td>A_PAPG</td>\n",
       "      <td>0.500742</td>\n",
       "      <td>A_OEFF</td>\n",
       "      <td>-0.523108</td>\n",
       "    </tr>\n",
       "    <tr>\n",
       "      <th>4</th>\n",
       "      <td>H_PMPG</td>\n",
       "      <td>0.489076</td>\n",
       "      <td>A_PPG</td>\n",
       "      <td>-0.507453</td>\n",
       "    </tr>\n",
       "    <tr>\n",
       "      <th>5</th>\n",
       "      <td>H_PTS</td>\n",
       "      <td>0.468638</td>\n",
       "      <td>H_L</td>\n",
       "      <td>-0.507196</td>\n",
       "    </tr>\n",
       "    <tr>\n",
       "      <th>6</th>\n",
       "      <td>H_DEFF</td>\n",
       "      <td>0.463084</td>\n",
       "      <td>A_PTS</td>\n",
       "      <td>-0.498203</td>\n",
       "    </tr>\n",
       "    <tr>\n",
       "      <th>7</th>\n",
       "      <td>H_PPG</td>\n",
       "      <td>0.460333</td>\n",
       "      <td>A_DEFF</td>\n",
       "      <td>-0.493279</td>\n",
       "    </tr>\n",
       "    <tr>\n",
       "      <th>8</th>\n",
       "      <td>H_OEFF</td>\n",
       "      <td>0.449924</td>\n",
       "      <td>H_PAPG</td>\n",
       "      <td>-0.437161</td>\n",
       "    </tr>\n",
       "    <tr>\n",
       "      <th>9</th>\n",
       "      <td>H_BLK</td>\n",
       "      <td>0.363353</td>\n",
       "      <td>A_BLK</td>\n",
       "      <td>-0.353360</td>\n",
       "    </tr>\n",
       "    <tr>\n",
       "      <th>10</th>\n",
       "      <td>A_TPG</td>\n",
       "      <td>0.360103</td>\n",
       "      <td>A_BPG</td>\n",
       "      <td>-0.301335</td>\n",
       "    </tr>\n",
       "    <tr>\n",
       "      <th>11</th>\n",
       "      <td>H_BPG</td>\n",
       "      <td>0.313952</td>\n",
       "      <td>A_CMPR</td>\n",
       "      <td>-0.300092</td>\n",
       "    </tr>\n",
       "    <tr>\n",
       "      <th>12</th>\n",
       "      <td>H_G</td>\n",
       "      <td>0.305157</td>\n",
       "      <td>H_TPG</td>\n",
       "      <td>-0.295343</td>\n",
       "    </tr>\n",
       "    <tr>\n",
       "      <th>13</th>\n",
       "      <td>A_PA</td>\n",
       "      <td>0.280492</td>\n",
       "      <td>A_G</td>\n",
       "      <td>-0.292493</td>\n",
       "    </tr>\n",
       "    <tr>\n",
       "      <th>14</th>\n",
       "      <td>H_CMPR</td>\n",
       "      <td>0.248988</td>\n",
       "      <td>H_PA</td>\n",
       "      <td>-0.216113</td>\n",
       "    </tr>\n",
       "    <tr>\n",
       "      <th>15</th>\n",
       "      <td>A_TO</td>\n",
       "      <td>0.199924</td>\n",
       "      <td>A_CMP</td>\n",
       "      <td>-0.198824</td>\n",
       "    </tr>\n",
       "    <tr>\n",
       "      <th>16</th>\n",
       "      <td>H_CMP</td>\n",
       "      <td>0.198454</td>\n",
       "      <td>H_TO</td>\n",
       "      <td>-0.134257</td>\n",
       "    </tr>\n",
       "    <tr>\n",
       "      <th>17</th>\n",
       "      <td>H_T</td>\n",
       "      <td>0.044570</td>\n",
       "      <td>A_CPG</td>\n",
       "      <td>-0.039400</td>\n",
       "    </tr>\n",
       "    <tr>\n",
       "      <th>18</th>\n",
       "      <td>H_CPG</td>\n",
       "      <td>0.031199</td>\n",
       "      <td>NaN</td>\n",
       "      <td>NaN</td>\n",
       "    </tr>\n",
       "    <tr>\n",
       "      <th>19</th>\n",
       "      <td>A_T</td>\n",
       "      <td>0.013460</td>\n",
       "      <td>NaN</td>\n",
       "      <td>NaN</td>\n",
       "    </tr>\n",
       "  </tbody>\n",
       "</table>\n",
       "</div>"
      ],
      "text/plain": [
       "    Metric  Corr Value  Metric  Corr Value\n",
       "0      A_L    0.591798     A_W   -0.576193\n",
       "1     H_PM    0.508185    A_PM   -0.557555\n",
       "2      H_W    0.508103  A_PMPG   -0.547617\n",
       "3   A_PAPG    0.500742  A_OEFF   -0.523108\n",
       "4   H_PMPG    0.489076   A_PPG   -0.507453\n",
       "5    H_PTS    0.468638     H_L   -0.507196\n",
       "6   H_DEFF    0.463084   A_PTS   -0.498203\n",
       "7    H_PPG    0.460333  A_DEFF   -0.493279\n",
       "8   H_OEFF    0.449924  H_PAPG   -0.437161\n",
       "9    H_BLK    0.363353   A_BLK   -0.353360\n",
       "10   A_TPG    0.360103   A_BPG   -0.301335\n",
       "11   H_BPG    0.313952  A_CMPR   -0.300092\n",
       "12     H_G    0.305157   H_TPG   -0.295343\n",
       "13    A_PA    0.280492     A_G   -0.292493\n",
       "14  H_CMPR    0.248988    H_PA   -0.216113\n",
       "15    A_TO    0.199924   A_CMP   -0.198824\n",
       "16   H_CMP    0.198454    H_TO   -0.134257\n",
       "17     H_T    0.044570   A_CPG   -0.039400\n",
       "18   H_CPG    0.031199     NaN         NaN\n",
       "19     A_T    0.013460     NaN         NaN"
      ]
     },
     "execution_count": 56,
     "metadata": {},
     "output_type": "execute_result"
    }
   ],
   "source": [
    "cmatrix = asdf.corrwith(asdf['margin']).sort_values(ascending=False).drop('margin')\n",
    "cmpos = cmatrix.where(cmatrix>0).dropna()\n",
    "cmneg = cmatrix.where(cmatrix<0).dropna()\n",
    "pos = cmpos.to_frame().reset_index()\n",
    "neg = cmneg.to_frame().reset_index().sort_values(by=[0],axis=0)\n",
    "neg.reset_index().drop('level_0',axis=1,inplace=True)\n",
    "neg = neg.reset_index().drop('level_0',axis=1)\n",
    "corrdf = pd.concat([pos,neg],axis=1)\n",
    "corrdf.rename({0:\"Corr Value\",\"index\":\"Metric\"},axis=1,inplace=True)\n",
    "corrdf"
   ]
  },
  {
   "attachments": {},
   "cell_type": "markdown",
   "metadata": {},
   "source": [
    ">Overall the takeaway from these correlations is that plus minus (cumulative for the season, not per game), proves to be an impactful metric in determining the score. Additionally, the two top metrics are both concerned with the away team (losses and wins respectively), while the home team wins/ losses, are roughly 15% less impactful than their away metric counterpart. What this tells us is that, and what is true for most sports, is that home field advantage matters. \n",
    "\n",
    ">Repeating a similar correlation process with the per game data frame (pgdf) produces similar results as shown below: \n"
   ]
  },
  {
   "cell_type": "code",
   "execution_count": 57,
   "metadata": {},
   "outputs": [
    {
     "data": {
      "text/plain": [
       "A_PAPG    0.500742\n",
       "H_PMPG    0.489076\n",
       "H_DEFF    0.463084\n",
       "H_PPG     0.460333\n",
       "H_OEFF    0.449924\n",
       "A_TPG     0.360103\n",
       "H_BPG     0.313952\n",
       "H_CMPR    0.248988\n",
       "H_CPG     0.031199\n",
       "A_CPG    -0.039400\n",
       "H_TPG    -0.295343\n",
       "A_CMPR   -0.300092\n",
       "A_BPG    -0.301335\n",
       "H_PAPG   -0.437161\n",
       "A_DEFF   -0.493279\n",
       "A_PPG    -0.507453\n",
       "A_OEFF   -0.523108\n",
       "A_PMPG   -0.547617\n",
       "dtype: float64"
      ]
     },
     "execution_count": 57,
     "metadata": {},
     "output_type": "execute_result"
    }
   ],
   "source": [
    "pgdf.corrwith(pgdf['margin']).sort_values(ascending=False).drop('margin')"
   ]
  },
  {
   "attachments": {},
   "cell_type": "markdown",
   "metadata": {},
   "source": [
    ">Plus minus per game (PMPG) still shows to be impactful, however the difference here is that points against per game (PAPG) proves to be significant input feature as well. Additionally, the offensive efficiency is shown to have a notable impact as well. But again, as we saw with the previous correlation data frame, the away team’s offensive efficiency, plus minus per game and points against per game impact the margin of the score significantly more than the corresponding metric for the home team – again this analysis shows home field advantage matters. \n",
    "\tOther things to note – metrics which measured completions didn’t have too much of an effect on the outcome of the score. While most other metrics in the pgdf, had somewhat of an impact on score ranging from .3 - .5 correlation value. \n",
    "\n"
   ]
  },
  {
   "cell_type": "code",
   "execution_count": 60,
   "metadata": {},
   "outputs": [
    {
     "data": {
      "text/plain": [
       "<matplotlib.axes._subplots.AxesSubplot at 0x7fcefa9221c0>"
      ]
     },
     "execution_count": 60,
     "metadata": {},
     "output_type": "execute_result"
    },
    {
     "data": {
      "image/png": "[encoded data removed]",
      "text/plain": [
       "<Figure size 1008x864 with 2 Axes>"
      ]
     },
     "metadata": {
      "needs_background": "light"
     },
     "output_type": "display_data"
    }
   ],
   "source": [
    "plt.figure(figsize=(14,12))\n",
    "sns.heatmap(pgdf.corr(),cmap=\"viridis\")"
   ]
  },
  {
   "attachments": {},
   "cell_type": "markdown",
   "metadata": {},
   "source": [
    "## The Models\n",
    "\n",
    ">Now that we had taken a glance at the data, let’s jump into constructing a model. I used the sci-kit learn python library to build my models, to view the full code, check out my github page (https://github.com/Alex-E-Walsh). \n",
    "\n",
    ">My initial thoughts were to use the asdf to train a linear regression model to predict the margin of the score (home team score – away team score). A positive margin score indicating a home team win.\n",
    ">I started with a preliminary multivariate linear regression using all the team statistics as features. Using 70% of the data to train the algorithm, of the 30% testing data (or 337 games), the linear regression algorithm was able to correctly predict the winner 79.42% from the testing data. That is from the 337 games of the training set, only 66 games were incorrectly predicted on which team won. As far the score spread for the linear regression, I offer some metrics below: \n",
    "\n",
    "Mean Absolute Error:  3.548 \n",
    "<br>\n",
    "Mean Squared Error: 20.428\n",
    "<br>\n",
    "Root Mean Squared Error: 4.520\n",
    "\n",
    "\n",
    "<img src=\"dist1.png\" width=400px; >\n",
    "<img src=\"regline1.png\" width=400px;>\n",
    "\n",
    ">The above plots represent the disparity between the actual vs predicted score spread. The scatter plot shows how the model attempted to predict the test data, with each point being an individual game and the red line showing where the model would expect the margin to be located. All points along the red line would represent 100% prediction accuracy, but some variance is always expected as with any sport, so this serves as a nice baseline. Building a linear regression model with the pgdf yields similar results with no significant changes in performance metrics to be notable, so let’s move on to try and implement an artificial neural network to see if we’re able to improve upon performance metrics. \n"
   ]
  },
  {
   "attachments": {},
   "cell_type": "markdown",
   "metadata": {},
   "source": [
    ">Below is the code I used to build the neural net for the linear regression model, a Sequential model with dense layers, relu activation, adagrad optimizer with early stopping as well. Like the original model, our loss function is MSE. "
   ]
  },
  {
   "cell_type": "code",
   "execution_count": null,
   "metadata": {},
   "outputs": [],
   "source": [
    "mdl = Sequential()\n",
    "mdl.add(Dense(39,activation='relu'))\n",
    "mdl.add(Dense(21,activation='relu'))\n",
    "mdl.add(Dense(11,activation='relu'))\n",
    "mdl.add(Dense(6,activation='relu'))\n",
    "mdl.add(Dense(1))\n",
    "mdl.compile(optimizer = 'adagrad' , loss='mse')\n",
    "\n",
    "early_stop = EarlyStopping(monitor = 'val_loss', mode='min',verbose=1,patience=25)\n",
    "\n",
    "mdl.fit(x=X_train,y=y_train.values,\n",
    "          validation_data=(X_test,y_test.values),\n",
    "          epochs=800,\n",
    "          callbacks = [early_stop])"
   ]
  },
  {
   "attachments": {},
   "cell_type": "markdown",
   "metadata": {},
   "source": [
    ">After evaluating our model on our test data, we end up with a loss function of 19.861 – slightly better than our original linear regression model! \n",
    "\n",
    "   <img src=\"lossout.png\" >\n",
    "   \n",
    ">Below are the same iteration of graphs for our original linear regression model\n",
    "\n",
    "<img src=\"dist2.png\" width=400px; >\n",
    "<img src=\"regline2.png\" width=400px;>\n",
    "\n",
    ">Let’s next move away from regressions and onto classification, here we will attempt to simply predict which team will win a game, and not the margin of the score. \n"
   ]
  },
  {
   "attachments": {},
   "cell_type": "markdown",
   "metadata": {},
   "source": [
    "## Neural Net Classifier \n",
    "\n",
    ">For the implementation of a neural net, we used the same data frame as the multivariate regression: asdf, that being a combination of team stats with the scores data frame. Essentially, for every game played, we fetch the team stats for both home and away team and the margin of the points (home team points - away team points) is the target value we are attempting to predict. Thus, our total features add up to 38 (19 unique statistics per team). I used a Sequential model with Dense layers, and a relu activation function, I also included dropout layers and early stopping callbacks to limit epochs. As far as training, our early stopping function stopped training after 64 epochs with a final MSE of 20.724 – slightly worse performance than our linear regression model!"
   ]
  },
  {
   "cell_type": "code",
   "execution_count": null,
   "metadata": {},
   "outputs": [],
   "source": [
    "regm = Sequential() \n",
    "regm.add(Dense(39,activation='relu'))\n",
    "regm.add(Dropout(0.2))\n",
    "regm.add(Dense(24,activation='relu'))\n",
    "regm.add(Dropout(0.2))\n",
    "regm.add(Dense(1, activation='sigmoid'))\n",
    "regm.compile(optimizer = 'adam' , loss='binary_crossentropy')\n",
    "\n",
    "regm.fit(x=X_train, \n",
    "          y=y_train, \n",
    "          epochs=600,\n",
    "          validation_data=(X_test, y_test), \n",
    "          verbose=1,\n",
    "          callbacks=[early_stop]\n",
    "          )"
   ]
  },
  {
   "attachments": {},
   "cell_type": "markdown",
   "metadata": {},
   "source": [
    "<img src=\"confmax.png\" width=400px;>\n",
    "\n",
    ">When it comes to predict the outcomes of each games, from our test set, our neural net was able to predict the winner of 80.71% percent of the time. Negligibly better than our simple linear regression model. To improve this number, let’s move on to another model"
   ]
  },
  {
   "attachments": {},
   "cell_type": "markdown",
   "metadata": {},
   "source": [
    "## RFE Model\n",
    "\n",
    ">Starting with a logistic regression model, I used recursive feature elimination (or RFE) to knock off half of my features and see if this will increase performance. Essentially what RFE does is remove the weaker features (those with the lowest coef_) recursively until we reach the desired number of features specified. In my case I narrowed down my features from 38 down to 24 features, I ran a logistic regression model initially similar to the one above with the RFE features to see performance increased. \n",
    "\n",
    "\n",
    ">This gave slightly better performance with accuracy around 82%, not a significant improvement for the small dataset we are working with, but noteable. \n",
    "\n",
    "<img src=\"confmax2.png\" width=450px;>"
   ]
  },
  {
   "attachments": {},
   "cell_type": "markdown",
   "metadata": {},
   "source": [
    ">While through many models, I have been only marginally successful in increasing accuracy of our games, maybe that is because there are some features that cannot be assigned numbers. As is the case with most predictive algorithms in sports, there is a still an element of randomness that makes it worthy entertainment. Largely I would consider this project to be a success, a highest model of 82% accuracy in predicting outcomes is fairly decent in the world of sports predictions.\n",
    "\n",
    ">Feel free to check out this site where I you can run each of these models "
   ]
  },
  {
   "cell_type": "code",
   "execution_count": null,
   "metadata": {},
   "outputs": [],
   "source": []
  }
 ],
 "metadata": {
  "kernelspec": {
   "display_name": "Python 3",
   "language": "python",
   "name": "python3"
  },
  "language_info": {
   "codemirror_mode": {
    "name": "ipython",
    "version": 3
   },
   "file_extension": ".py",
   "mimetype": "text/x-python",
   "name": "python",
   "nbconvert_exporter": "python",
   "pygments_lexer": "ipython3",
   "version": "3.8.2"
  }
 },
 "nbformat": 4,
 "nbformat_minor": 4
}
